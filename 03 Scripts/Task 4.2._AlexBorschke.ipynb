{
 "cells": [
  {
   "cell_type": "code",
   "execution_count": 1,
   "id": "3bcbffd0",
   "metadata": {},
   "outputs": [],
   "source": [
    "# Import libraries\n",
    "import pandas as pd\n",
    "import numpy as np\n",
    "import os"
   ]
  },
  {
   "cell_type": "markdown",
   "id": "0c5edee7",
   "metadata": {},
   "source": [
    "# Working with Panda data types"
   ]
  },
  {
   "cell_type": "markdown",
   "id": "7ddff64f",
   "metadata": {},
   "source": [
    "# Integer"
   ]
  },
  {
   "cell_type": "code",
   "execution_count": 26,
   "id": "eacd8ffa",
   "metadata": {},
   "outputs": [
    {
     "data": {
      "text/plain": [
       "100"
      ]
     },
     "execution_count": 26,
     "metadata": {},
     "output_type": "execute_result"
    }
   ],
   "source": [
    "50 + 50 "
   ]
  },
  {
   "cell_type": "code",
   "execution_count": 27,
   "id": "d1536bd6",
   "metadata": {},
   "outputs": [],
   "source": [
    "x = 50 "
   ]
  },
  {
   "cell_type": "code",
   "execution_count": 28,
   "id": "df6ef356",
   "metadata": {},
   "outputs": [
    {
     "data": {
      "text/plain": [
       "100"
      ]
     },
     "execution_count": 28,
     "metadata": {},
     "output_type": "execute_result"
    }
   ],
   "source": [
    "x*2"
   ]
  },
  {
   "cell_type": "code",
   "execution_count": 29,
   "id": "29b56d0c",
   "metadata": {},
   "outputs": [
    {
     "data": {
      "text/plain": [
       "100"
      ]
     },
     "execution_count": 29,
     "metadata": {},
     "output_type": "execute_result"
    }
   ],
   "source": [
    "x + 50"
   ]
  },
  {
   "cell_type": "code",
   "execution_count": 30,
   "id": "dcb5effc",
   "metadata": {},
   "outputs": [],
   "source": [
    "y = 50"
   ]
  },
  {
   "cell_type": "code",
   "execution_count": 31,
   "id": "299bcc41",
   "metadata": {},
   "outputs": [
    {
     "data": {
      "text/plain": [
       "100"
      ]
     },
     "execution_count": 31,
     "metadata": {},
     "output_type": "execute_result"
    }
   ],
   "source": [
    "x + y "
   ]
  },
  {
   "cell_type": "code",
   "execution_count": 32,
   "id": "03c79df3",
   "metadata": {},
   "outputs": [],
   "source": [
    "z = 200"
   ]
  },
  {
   "cell_type": "code",
   "execution_count": 33,
   "id": "c109211d",
   "metadata": {},
   "outputs": [
    {
     "data": {
      "text/plain": [
       "100"
      ]
     },
     "execution_count": 33,
     "metadata": {},
     "output_type": "execute_result"
    }
   ],
   "source": [
    "z - x*2"
   ]
  },
  {
   "cell_type": "code",
   "execution_count": 34,
   "id": "c5fedddc",
   "metadata": {},
   "outputs": [
    {
     "data": {
      "text/plain": [
       "100"
      ]
     },
     "execution_count": 34,
     "metadata": {},
     "output_type": "execute_result"
    }
   ],
   "source": [
    "z - x - y"
   ]
  },
  {
   "cell_type": "markdown",
   "id": "ff55981f",
   "metadata": {},
   "source": [
    "# floating-point variables"
   ]
  },
  {
   "cell_type": "code",
   "execution_count": 35,
   "id": "7a99b254",
   "metadata": {},
   "outputs": [],
   "source": [
    "x = 1.5"
   ]
  },
  {
   "cell_type": "code",
   "execution_count": 36,
   "id": "9b167df1",
   "metadata": {},
   "outputs": [],
   "source": [
    "y = 0.5"
   ]
  },
  {
   "cell_type": "code",
   "execution_count": 37,
   "id": "bc7466d3",
   "metadata": {},
   "outputs": [
    {
     "data": {
      "text/plain": [
       "3.0"
      ]
     },
     "execution_count": 37,
     "metadata": {},
     "output_type": "execute_result"
    }
   ],
   "source": [
    "x/y"
   ]
  },
  {
   "cell_type": "markdown",
   "id": "0a64ac42",
   "metadata": {},
   "source": [
    "# strings "
   ]
  },
  {
   "cell_type": "code",
   "execution_count": 38,
   "id": "4709fe41",
   "metadata": {},
   "outputs": [],
   "source": [
    "x = 'foot'"
   ]
  },
  {
   "cell_type": "code",
   "execution_count": 39,
   "id": "7e548014",
   "metadata": {},
   "outputs": [],
   "source": [
    "y = 'ball'"
   ]
  },
  {
   "cell_type": "code",
   "execution_count": 40,
   "id": "eb6de423",
   "metadata": {},
   "outputs": [
    {
     "data": {
      "text/plain": [
       "'football'"
      ]
     },
     "execution_count": 40,
     "metadata": {},
     "output_type": "execute_result"
    }
   ],
   "source": [
    "x + y"
   ]
  },
  {
   "cell_type": "markdown",
   "id": "b3591fc2",
   "metadata": {},
   "source": [
    "# string sentence 1\n"
   ]
  },
  {
   "cell_type": "code",
   "execution_count": null,
   "id": "8853b19c",
   "metadata": {},
   "outputs": [],
   "source": [
    "a = 'Hello, '"
   ]
  },
  {
   "cell_type": "code",
   "execution_count": 63,
   "id": "0d97f423",
   "metadata": {},
   "outputs": [],
   "source": [
    "b = 'world'"
   ]
  },
  {
   "cell_type": "code",
   "execution_count": 64,
   "id": "5b8458ab",
   "metadata": {},
   "outputs": [
    {
     "data": {
      "text/plain": [
       "'Hello, world'"
      ]
     },
     "execution_count": 64,
     "metadata": {},
     "output_type": "execute_result"
    }
   ],
   "source": [
    "a + b"
   ]
  },
  {
   "cell_type": "markdown",
   "id": "01a0ee24",
   "metadata": {},
   "source": [
    "# string sentence 2"
   ]
  },
  {
   "cell_type": "code",
   "execution_count": 69,
   "id": "5301e4cb",
   "metadata": {},
   "outputs": [],
   "source": [
    "a = 'I  '"
   ]
  },
  {
   "cell_type": "code",
   "execution_count": 70,
   "id": "2c0f451f",
   "metadata": {},
   "outputs": [],
   "source": [
    "b = 'eat'"
   ]
  },
  {
   "cell_type": "code",
   "execution_count": 74,
   "id": "37427b87",
   "metadata": {},
   "outputs": [
    {
     "data": {
      "text/plain": [
       "'I eat'"
      ]
     },
     "execution_count": 74,
     "metadata": {},
     "output_type": "execute_result"
    }
   ],
   "source": [
    "a + ' ' + b"
   ]
  }
 ],
 "metadata": {
  "kernelspec": {
   "display_name": "Python 3 (ipykernel)",
   "language": "python",
   "name": "python3"
  },
  "language_info": {
   "codemirror_mode": {
    "name": "ipython",
    "version": 3
   },
   "file_extension": ".py",
   "mimetype": "text/x-python",
   "name": "python",
   "nbconvert_exporter": "python",
   "pygments_lexer": "ipython3",
   "version": "3.10.9"
  }
 },
 "nbformat": 4,
 "nbformat_minor": 5
}
