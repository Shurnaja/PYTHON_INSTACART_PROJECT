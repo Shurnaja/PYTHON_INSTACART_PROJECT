{
 "cells": [
  {
   "cell_type": "code",
   "execution_count": 1,
   "id": "1f7cb40a",
   "metadata": {},
   "outputs": [],
   "source": [
    "#Importing libraries\n",
    "import pandas as pd\n",
    "import numpy as np\n",
    "import os"
   ]
  },
  {
   "cell_type": "code",
   "execution_count": 3,
   "id": "fc90a2a0",
   "metadata": {},
   "outputs": [],
   "source": [
    "df = pd.read_csv(r'/Users/alexbor/Desktop/Data Analytics/Immersion/Submissions/Instacart Basket Analysis/02 Data /Original data/orders.csv', index_col = False)"
   ]
  },
  {
   "cell_type": "code",
   "execution_count": 4,
   "id": "38bb1a36",
   "metadata": {},
   "outputs": [
    {
     "data": {
      "text/plain": [
       "27368664"
      ]
     },
     "execution_count": 4,
     "metadata": {},
     "output_type": "execute_result"
    }
   ],
   "source": [
    "df['order_id'].memory_usage(index=False, deep=True)"
   ]
  },
  {
   "cell_type": "code",
   "execution_count": 5,
   "id": "af67534e",
   "metadata": {},
   "outputs": [
    {
     "data": {
      "text/plain": [
       "3421083"
      ]
     },
     "execution_count": 5,
     "metadata": {},
     "output_type": "execute_result"
    }
   ],
   "source": [
    "df['order_id'].max()"
   ]
  },
  {
   "cell_type": "code",
   "execution_count": 6,
   "id": "ebdddd85",
   "metadata": {},
   "outputs": [
    {
     "data": {
      "text/plain": [
       "1"
      ]
     },
     "execution_count": 6,
     "metadata": {},
     "output_type": "execute_result"
    }
   ],
   "source": [
    "df['order_id'].min()"
   ]
  },
  {
   "cell_type": "code",
   "execution_count": null,
   "id": "26f2d61b",
   "metadata": {},
   "outputs": [],
   "source": [
    "df = pd.read_csv(\"orders.csv\", dtype={\"order_id \": \"int8\"})"
   ]
  },
  {
   "cell_type": "markdown",
   "id": "502fccb6",
   "metadata": {},
   "source": [
    "# checking memory usage // when choosing just some columns, less memory is used"
   ]
  },
  {
   "cell_type": "code",
   "execution_count": 8,
   "id": "9894395d",
   "metadata": {},
   "outputs": [
    {
     "name": "stdout",
     "output_type": "stream",
     "text": [
      "<class 'pandas.core.frame.DataFrame'>\n",
      "RangeIndex: 3421083 entries, 0 to 3421082\n",
      "Columns: 7 entries, order_id to days_since_prior_order\n",
      "dtypes: float64(1), int64(5), object(1)\n",
      "memory usage: 358.8 MB\n"
     ]
    }
   ],
   "source": [
    "df.info(verbose=False, memory_usage=\"deep\")"
   ]
  },
  {
   "cell_type": "markdown",
   "id": "3ae751eb",
   "metadata": {},
   "source": [
    "# show only these columns\n"
   ]
  },
  {
   "cell_type": "code",
   "execution_count": 12,
   "id": "42dd0581",
   "metadata": {},
   "outputs": [],
   "source": [
    "df = df[['order_id', 'user_id']]"
   ]
  },
  {
   "cell_type": "code",
   "execution_count": 13,
   "id": "cf5f3240",
   "metadata": {},
   "outputs": [
    {
     "name": "stdout",
     "output_type": "stream",
     "text": [
      "<class 'pandas.core.frame.DataFrame'>\n",
      "RangeIndex: 3421083 entries, 0 to 3421082\n",
      "Columns: 2 entries, order_id to user_id\n",
      "dtypes: int64(2)\n",
      "memory usage: 52.2 MB\n"
     ]
    }
   ],
   "source": [
    "df.info(verbose=False, memory_usage=\"deep\")"
   ]
  },
  {
   "cell_type": "code",
   "execution_count": 14,
   "id": "f88c287e",
   "metadata": {},
   "outputs": [
    {
     "data": {
      "text/html": [
       "<div>\n",
       "<style scoped>\n",
       "    .dataframe tbody tr th:only-of-type {\n",
       "        vertical-align: middle;\n",
       "    }\n",
       "\n",
       "    .dataframe tbody tr th {\n",
       "        vertical-align: top;\n",
       "    }\n",
       "\n",
       "    .dataframe thead th {\n",
       "        text-align: right;\n",
       "    }\n",
       "</style>\n",
       "<table border=\"1\" class=\"dataframe\">\n",
       "  <thead>\n",
       "    <tr style=\"text-align: right;\">\n",
       "      <th></th>\n",
       "      <th>order_id</th>\n",
       "      <th>user_id</th>\n",
       "    </tr>\n",
       "  </thead>\n",
       "  <tbody>\n",
       "    <tr>\n",
       "      <th>0</th>\n",
       "      <td>2539329</td>\n",
       "      <td>1</td>\n",
       "    </tr>\n",
       "    <tr>\n",
       "      <th>1</th>\n",
       "      <td>2398795</td>\n",
       "      <td>1</td>\n",
       "    </tr>\n",
       "    <tr>\n",
       "      <th>2</th>\n",
       "      <td>473747</td>\n",
       "      <td>1</td>\n",
       "    </tr>\n",
       "    <tr>\n",
       "      <th>3</th>\n",
       "      <td>2254736</td>\n",
       "      <td>1</td>\n",
       "    </tr>\n",
       "    <tr>\n",
       "      <th>4</th>\n",
       "      <td>431534</td>\n",
       "      <td>1</td>\n",
       "    </tr>\n",
       "  </tbody>\n",
       "</table>\n",
       "</div>"
      ],
      "text/plain": [
       "   order_id  user_id\n",
       "0   2539329        1\n",
       "1   2398795        1\n",
       "2    473747        1\n",
       "3   2254736        1\n",
       "4    431534        1"
      ]
     },
     "execution_count": 14,
     "metadata": {},
     "output_type": "execute_result"
    }
   ],
   "source": [
    "df.head()"
   ]
  },
  {
   "cell_type": "markdown",
   "id": "c51cdad1",
   "metadata": {},
   "source": [
    "# To check for empty values"
   ]
  },
  {
   "cell_type": "code",
   "execution_count": 15,
   "id": "4713b7e5",
   "metadata": {},
   "outputs": [],
   "source": [
    "series = df['order_id']"
   ]
  },
  {
   "cell_type": "code",
   "execution_count": 16,
   "id": "1d60aaa0",
   "metadata": {},
   "outputs": [
    {
     "data": {
      "text/plain": [
       "27368664"
      ]
     },
     "execution_count": 16,
     "metadata": {},
     "output_type": "execute_result"
    }
   ],
   "source": [
    "series.memory_usage(index=False, deep=True)"
   ]
  },
  {
   "cell_type": "code",
   "execution_count": 17,
   "id": "3c79badd",
   "metadata": {},
   "outputs": [
    {
     "data": {
      "text/plain": [
       "3421083"
      ]
     },
     "execution_count": 17,
     "metadata": {},
     "output_type": "execute_result"
    }
   ],
   "source": [
    "len(series)"
   ]
  },
  {
   "cell_type": "code",
   "execution_count": 18,
   "id": "98215bab",
   "metadata": {},
   "outputs": [
    {
     "data": {
      "text/plain": [
       "3421083"
      ]
     },
     "execution_count": 18,
     "metadata": {},
     "output_type": "execute_result"
    }
   ],
   "source": [
    " len(series.dropna())"
   ]
  },
  {
   "cell_type": "code",
   "execution_count": null,
   "id": "1a3c4e48",
   "metadata": {},
   "outputs": [],
   "source": []
  }
 ],
 "metadata": {
  "kernelspec": {
   "display_name": "Python 3 (ipykernel)",
   "language": "python",
   "name": "python3"
  },
  "language_info": {
   "codemirror_mode": {
    "name": "ipython",
    "version": 3
   },
   "file_extension": ".py",
   "mimetype": "text/x-python",
   "name": "python",
   "nbconvert_exporter": "python",
   "pygments_lexer": "ipython3",
   "version": "3.10.9"
  }
 },
 "nbformat": 4,
 "nbformat_minor": 5
}
